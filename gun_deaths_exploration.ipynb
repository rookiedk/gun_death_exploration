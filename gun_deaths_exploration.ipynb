{
 "cells": [
  {
   "cell_type": "markdown",
   "metadata": {},
   "source": [
    "# Gun Deaths Exploration using pandas\n",
    "\n",
    "## The guns.csv file contains information on gun deaths in the US from 2012 to 2014. Each row in the dataset represents a single fatality. The columns contain demographic and other information about the victim."
   ]
  },
  {
   "cell_type": "markdown",
   "metadata": {},
   "source": [
    "First load the file using the .csv module and simply explore the .csv file"
   ]
  },
  {
   "cell_type": "code",
   "execution_count": 1,
   "metadata": {},
   "outputs": [
    {
     "name": "stdout",
     "output_type": "stream",
     "text": [
      "[['', 'year', 'month', 'intent', 'police', 'sex', 'age', 'race', 'hispanic', 'place', 'education'], ['1', '2012', '01', 'Suicide', '0', 'M', '34', 'Asian/Pacific Islander', '100', 'Home', '4'], ['2', '2012', '01', 'Suicide', '0', 'F', '21', 'White', '100', 'Street', '3'], ['3', '2012', '01', 'Suicide', '0', 'M', '60', 'White', '100', 'Other specified', '4'], ['4', '2012', '02', 'Suicide', '0', 'M', '64', 'White', '100', 'Home', '4']]\n"
     ]
    }
   ],
   "source": [
    "import csv\n",
    "raw_file = open('guns.csv')\n",
    "data = list(csv.reader(raw_file))\n",
    "#Display the first 5 rows of data to verify everything\n",
    "print(data[0:5])"
   ]
  },
  {
   "cell_type": "code",
   "execution_count": 2,
   "metadata": {},
   "outputs": [
    {
     "name": "stdout",
     "output_type": "stream",
     "text": [
      "['', 'year', 'month', 'intent', 'police', 'sex', 'age', 'race', 'hispanic', 'place', 'education']\n",
      "[['1', '2012', '01', 'Suicide', '0', 'M', '34', 'Asian/Pacific Islander', '100', 'Home', '4'], ['2', '2012', '01', 'Suicide', '0', 'F', '21', 'White', '100', 'Street', '3'], ['3', '2012', '01', 'Suicide', '0', 'M', '60', 'White', '100', 'Other specified', '4'], ['4', '2012', '02', 'Suicide', '0', 'M', '64', 'White', '100', 'Home', '4'], ['5', '2012', '02', 'Suicide', '0', 'M', '31', 'White', '100', 'Other specified', '2']]\n"
     ]
    }
   ],
   "source": [
    "#Extract the first row of data, and assign it to the variable headers\n",
    "headers = data[0]\n",
    "#Remove the first row from data\n",
    "data = data[1:]\n",
    "print(headers)\n",
    "print(data[0:5])"
   ]
  },
  {
   "cell_type": "markdown",
   "metadata": {},
   "source": [
    "# Use a list comprehension to extract the year column from data\n",
    "print(years) is going to lead us down the rabbit hole of a never-ending output statements. So let's skip it for now"
   ]
  },
  {
   "cell_type": "code",
   "execution_count": 3,
   "metadata": {},
   "outputs": [],
   "source": [
    "years = [year[1] for year in data]\n",
    "# print(years)"
   ]
  },
  {
   "cell_type": "markdown",
   "metadata": {},
   "source": [
    "# Next let's explore how many gun deaths occur in each year. \n",
    "Remember the gun_deaths.csv file that we loaded contains only the records for the years 2012, 2013, 2014"
   ]
  },
  {
   "cell_type": "code",
   "execution_count": 4,
   "metadata": {},
   "outputs": [
    {
     "name": "stdout",
     "output_type": "stream",
     "text": [
      "{'2012': 33563, '2013': 33636, '2014': 33599}\n"
     ]
    }
   ],
   "source": [
    "years_count = {}\n",
    "for year in years:\n",
    "    if year in years_count:\n",
    "        years_count[year] += 1\n",
    "    else:\n",
    "        years_count[year] = 1\n",
    "print(years_count)"
   ]
  },
  {
   "cell_type": "markdown",
   "metadata": {},
   "source": [
    "## Next, it's time to convert the 'years' in each row of the .csv file into datetime.datetime format\n"
   ]
  },
  {
   "cell_type": "code",
   "execution_count": 5,
   "metadata": {},
   "outputs": [],
   "source": [
    "#create a datetime.datetime object for each row\n",
    "import datetime\n",
    "dates = [(datetime.datetime(year=int(row[1]), \n",
    "                                month=int(row[2]),\n",
    "                               day=1)) for row in data]   \n",
    "# Calculate each unique date occuring in dates variable\n",
    "date_counts = {}\n",
    "for date in dates:\n",
    "    if date in date_counts:\n",
    "        date_counts[date] += 1\n",
    "    else:\n",
    "        date_counts[date] = 1\n"
   ]
  },
  {
   "cell_type": "markdown",
   "metadata": {},
   "source": [
    "## Let's try to calculate the no. of times each item in the sex column occurs"
   ]
  },
  {
   "cell_type": "code",
   "execution_count": 6,
   "metadata": {},
   "outputs": [
    {
     "name": "stdout",
     "output_type": "stream",
     "text": [
      "{'M': 86349, 'F': 14449}\n"
     ]
    }
   ],
   "source": [
    "sex = [item[5] for item in data]\n",
    "sex_counts = {}\n",
    "for element in sex:\n",
    "    if element in sex_counts:\n",
    "        sex_counts[element] += 1\n",
    "    else:\n",
    "        sex_counts[element] = 1\n",
    "\n",
    "print(sex_counts)"
   ]
  },
  {
   "cell_type": "markdown",
   "metadata": {},
   "source": [
    "## Calculating the No. of times each item in the race column occurs\n"
   ]
  },
  {
   "cell_type": "code",
   "execution_count": 7,
   "metadata": {},
   "outputs": [
    {
     "name": "stdout",
     "output_type": "stream",
     "text": [
      "{'Asian/Pacific Islander': 1326, 'White': 66237, 'Native American/Native Alaskan': 917, 'Black': 23296, 'Hispanic': 9022}\n"
     ]
    }
   ],
   "source": [
    "race = [item[7] for item in data]\n",
    "race_counts = {}\n",
    "for element in race:\n",
    "    if element in race_counts:\n",
    "        race_counts[element] += 1\n",
    "    else:\n",
    "        race_counts[element] = 1\n",
    "\n",
    "print(race_counts)"
   ]
  },
  {
   "cell_type": "markdown",
   "metadata": {},
   "source": [
    "## It would be more insightful to split the Male&Female gun deaths by race. Not surprisingly (since the report is about gun deaths in the U.S., white people have reported more deaths)"
   ]
  },
  {
   "cell_type": "code",
   "execution_count": 8,
   "metadata": {},
   "outputs": [
    {
     "name": "stdout",
     "output_type": "stream",
     "text": [
      "15159516\n"
     ]
    }
   ],
   "source": [
    "# Census.csv data contains information \n",
    "# on the total population of the US, \n",
    "# as well as the total population of each racial group in the US\n",
    "\n",
    "raw_census = open('census.csv')\n",
    "census = list(csv.reader(raw_census))\n",
    "print(census[1][14])"
   ]
  },
  {
   "cell_type": "code",
   "execution_count": 9,
   "metadata": {},
   "outputs": [],
   "source": [
    "# Manually create a dictionary, mapping that maps each key\n",
    "# from race_counts to the population count of the race from census\n",
    "mapping = {}\n",
    "\n",
    "mapping['Asian/Pacific Islander'] = int(census[1][14] + census[1][15])\n",
    "mapping['Black'] = int(census[1][12])\n",
    "mapping['Native American/Native Alaskan'] = int(census[1][13])\n",
    "mapping['Hispanic'] = int(census[1][11])\n",
    "mapping['White'] = int(census[1][10])\n"
   ]
  },
  {
   "cell_type": "code",
   "execution_count": 10,
   "metadata": {},
   "outputs": [
    {
     "name": "stdout",
     "output_type": "stream",
     "text": [
      "{'Asian/Pacific Islander': 8.746980714890115e-06, 'White': 33.56849303419181, 'Native American/Native Alaskan': 24.521955573811088, 'Black': 57.8773477735196, 'Hispanic': 20.220491210910907}\n"
     ]
    }
   ],
   "source": [
    "# Convert each race's population into a more readable format\n",
    "race_per_hundredk = {}\n",
    "for key in race_counts:\n",
    "    race_per_hundredk[key] = (race_counts[key] / mapping[key]) * 100000\n",
    "print(race_per_hundredk)"
   ]
  },
  {
   "cell_type": "code",
   "execution_count": 11,
   "metadata": {},
   "outputs": [
    {
     "name": "stdout",
     "output_type": "stream",
     "text": [
      "{'Asian/Pacific Islander': 8.746980714890115e-06, 'White': 33.56849303419181, 'Native American/Native Alaskan': 24.521955573811088, 'Black': 57.8773477735196, 'Hispanic': 20.220491210910907}\n"
     ]
    }
   ],
   "source": [
    "intents = [item[3] for item in data]\n",
    "races = [item[7] for item in data]\n",
    "homicide_race_counts = {}\n",
    "\n",
    "for i, race in enumerate(races):\n",
    "    if intents[i] == 'Homicide':\n",
    "        if race not in homicide_race_counts:\n",
    "            homicide_race_counts[race] = 0\n",
    "        else:\n",
    "            homicide_race_counts[race] += 1\n",
    "\n",
    "race_per_hundredk = {}\n",
    "for key in race_counts:\n",
    "    race_per_hundredk[key] = (race_counts[key] / mapping[key]) * 100000\n",
    "print(race_per_hundredk)"
   ]
  }
 ],
 "metadata": {
  "kernelspec": {
   "display_name": "Python 3",
   "language": "python",
   "name": "python3"
  },
  "language_info": {
   "codemirror_mode": {
    "name": "ipython",
    "version": 3
   },
   "file_extension": ".py",
   "mimetype": "text/x-python",
   "name": "python",
   "nbconvert_exporter": "python",
   "pygments_lexer": "ipython3",
   "version": "3.6.6"
  }
 },
 "nbformat": 4,
 "nbformat_minor": 1
}
